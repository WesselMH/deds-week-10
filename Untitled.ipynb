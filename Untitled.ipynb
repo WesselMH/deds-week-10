{
 "cells": [
  {
   "cell_type": "code",
   "execution_count": 1,
   "id": "bb564cc5",
   "metadata": {},
   "outputs": [],
   "source": [
    "import pandas as pd\n",
    "import numpy as np\n",
    "import pyodbc\n",
    "\n",
    "\n",
    "from sklearn import tree\n",
    "from sklearn.tree import DecisionTreeClassifier # Import Decision Tree Classifier\n",
    "from sklearn.model_selection import train_test_split # Import train_test_split function\n",
    "from sklearn import metrics #Import scikit-learn metrics module for accuracy calculation\n",
    "from sklearn.metrics import accuracy_score\n",
    "from sklearn.metrics import confusion_matrix\n",
    "import warnings\n",
    "warnings.filterwarnings('ignore')"
   ]
  },
  {
   "cell_type": "code",
   "execution_count": 2,
   "id": "fea1a902",
   "metadata": {},
   "outputs": [],
   "source": [
    "data_set = pyodbc.connect(r'Driver={Microsoft Access Driver (*.mdb, *.accdb)};DBQ=C:/Users/wmhor/OneDrive - De Haagse Hogeschool/DEDS/week 10/go_sales_schoon.accdb')\n"
   ]
  },
  {
   "cell_type": "code",
   "execution_count": 3,
   "id": "2b6c7d0c",
   "metadata": {},
   "outputs": [
    {
     "data": {
      "text/html": [
       "<div>\n",
       "<style scoped>\n",
       "    .dataframe tbody tr th:only-of-type {\n",
       "        vertical-align: middle;\n",
       "    }\n",
       "\n",
       "    .dataframe tbody tr th {\n",
       "        vertical-align: top;\n",
       "    }\n",
       "\n",
       "    .dataframe thead th {\n",
       "        text-align: right;\n",
       "    }\n",
       "</style>\n",
       "<table border=\"1\" class=\"dataframe\">\n",
       "  <thead>\n",
       "    <tr style=\"text-align: right;\">\n",
       "      <th></th>\n",
       "      <th>RETURN_CODE</th>\n",
       "      <th>ORDER_DETAIL_CODE</th>\n",
       "      <th>RETURN_REASON_CODE</th>\n",
       "      <th>PRODUCT_NUMBER</th>\n",
       "      <th>UNIT_SALE_PRICE</th>\n",
       "      <th>PRODUCT_TYPE_CODE</th>\n",
       "      <th>PRODUCT_LINE_CODE</th>\n",
       "    </tr>\n",
       "  </thead>\n",
       "  <tbody>\n",
       "    <tr>\n",
       "      <th>0</th>\n",
       "      <td>1588</td>\n",
       "      <td>49858</td>\n",
       "      <td>5</td>\n",
       "      <td>53</td>\n",
       "      <td>39.99</td>\n",
       "      <td>8</td>\n",
       "      <td>2</td>\n",
       "    </tr>\n",
       "    <tr>\n",
       "      <th>1</th>\n",
       "      <td>1837</td>\n",
       "      <td>94778</td>\n",
       "      <td>2</td>\n",
       "      <td>53</td>\n",
       "      <td>37.22</td>\n",
       "      <td>8</td>\n",
       "      <td>2</td>\n",
       "    </tr>\n",
       "    <tr>\n",
       "      <th>2</th>\n",
       "      <td>2393</td>\n",
       "      <td>84057</td>\n",
       "      <td>5</td>\n",
       "      <td>53</td>\n",
       "      <td>39.99</td>\n",
       "      <td>8</td>\n",
       "      <td>2</td>\n",
       "    </tr>\n",
       "    <tr>\n",
       "      <th>3</th>\n",
       "      <td>2162</td>\n",
       "      <td>79868</td>\n",
       "      <td>5</td>\n",
       "      <td>53</td>\n",
       "      <td>39.99</td>\n",
       "      <td>8</td>\n",
       "      <td>2</td>\n",
       "    </tr>\n",
       "    <tr>\n",
       "      <th>4</th>\n",
       "      <td>1687</td>\n",
       "      <td>107808</td>\n",
       "      <td>1</td>\n",
       "      <td>53</td>\n",
       "      <td>35.54</td>\n",
       "      <td>8</td>\n",
       "      <td>2</td>\n",
       "    </tr>\n",
       "    <tr>\n",
       "      <th>...</th>\n",
       "      <td>...</td>\n",
       "      <td>...</td>\n",
       "      <td>...</td>\n",
       "      <td>...</td>\n",
       "      <td>...</td>\n",
       "      <td>...</td>\n",
       "      <td>...</td>\n",
       "    </tr>\n",
       "    <tr>\n",
       "      <th>701</th>\n",
       "      <td>2338</td>\n",
       "      <td>75307</td>\n",
       "      <td>4</td>\n",
       "      <td>110</td>\n",
       "      <td>126.73</td>\n",
       "      <td>20</td>\n",
       "      <td>5</td>\n",
       "    </tr>\n",
       "    <tr>\n",
       "      <th>702</th>\n",
       "      <td>2243</td>\n",
       "      <td>90395</td>\n",
       "      <td>2</td>\n",
       "      <td>110</td>\n",
       "      <td>126.73</td>\n",
       "      <td>20</td>\n",
       "      <td>5</td>\n",
       "    </tr>\n",
       "    <tr>\n",
       "      <th>703</th>\n",
       "      <td>2301</td>\n",
       "      <td>100641</td>\n",
       "      <td>4</td>\n",
       "      <td>111</td>\n",
       "      <td>180.13</td>\n",
       "      <td>20</td>\n",
       "      <td>5</td>\n",
       "    </tr>\n",
       "    <tr>\n",
       "      <th>704</th>\n",
       "      <td>2469</td>\n",
       "      <td>114848</td>\n",
       "      <td>3</td>\n",
       "      <td>112</td>\n",
       "      <td>8.85</td>\n",
       "      <td>21</td>\n",
       "      <td>5</td>\n",
       "    </tr>\n",
       "    <tr>\n",
       "      <th>705</th>\n",
       "      <td>2266</td>\n",
       "      <td>55248</td>\n",
       "      <td>2</td>\n",
       "      <td>112</td>\n",
       "      <td>8.25</td>\n",
       "      <td>21</td>\n",
       "      <td>5</td>\n",
       "    </tr>\n",
       "  </tbody>\n",
       "</table>\n",
       "<p>706 rows × 7 columns</p>\n",
       "</div>"
      ],
      "text/plain": [
       "    RETURN_CODE ORDER_DETAIL_CODE RETURN_REASON_CODE PRODUCT_NUMBER  \\\n",
       "0          1588             49858                  5             53   \n",
       "1          1837             94778                  2             53   \n",
       "2          2393             84057                  5             53   \n",
       "3          2162             79868                  5             53   \n",
       "4          1687            107808                  1             53   \n",
       "..          ...               ...                ...            ...   \n",
       "701        2338             75307                  4            110   \n",
       "702        2243             90395                  2            110   \n",
       "703        2301            100641                  4            111   \n",
       "704        2469            114848                  3            112   \n",
       "705        2266             55248                  2            112   \n",
       "\n",
       "    UNIT_SALE_PRICE PRODUCT_TYPE_CODE PRODUCT_LINE_CODE  \n",
       "0             39.99                 8                 2  \n",
       "1             37.22                 8                 2  \n",
       "2             39.99                 8                 2  \n",
       "3             39.99                 8                 2  \n",
       "4             35.54                 8                 2  \n",
       "..              ...               ...               ...  \n",
       "701          126.73                20                 5  \n",
       "702          126.73                20                 5  \n",
       "703          180.13                20                 5  \n",
       "704            8.85                21                 5  \n",
       "705            8.25                21                 5  \n",
       "\n",
       "[706 rows x 7 columns]"
      ]
     },
     "execution_count": 3,
     "metadata": {},
     "output_type": "execute_result"
    }
   ],
   "source": [
    "data_set = pd.read_sql(\"SELECT * FROM Query2\", data_set)\n",
    "data_set"
   ]
  },
  {
   "cell_type": "raw",
   "id": "32b87f3b",
   "metadata": {},
   "source": [
    "\n"
   ]
  },
  {
   "cell_type": "code",
   "execution_count": 4,
   "id": "7678e343",
   "metadata": {},
   "outputs": [],
   "source": [
    "tree1 = DecisionTreeClassifier()"
   ]
  },
  {
   "cell_type": "code",
   "execution_count": 5,
   "id": "e0aac7b1",
   "metadata": {},
   "outputs": [],
   "source": [
    "X = data_set.copy()\n",
    "y = data_set['RETURN_REASON_CODE']\n",
    "X_train, X_test, y_train, y_test = train_test_split(X,y, test_size=0.60, random_state = 100)\n",
    "tree1 = tree1.fit(X_train, y_train)"
   ]
  },
  {
   "cell_type": "code",
   "execution_count": 6,
   "id": "04d9e179",
   "metadata": {},
   "outputs": [
    {
     "data": {
      "text/html": [
       "<div>\n",
       "<style scoped>\n",
       "    .dataframe tbody tr th:only-of-type {\n",
       "        vertical-align: middle;\n",
       "    }\n",
       "\n",
       "    .dataframe tbody tr th {\n",
       "        vertical-align: top;\n",
       "    }\n",
       "\n",
       "    .dataframe thead th {\n",
       "        text-align: right;\n",
       "    }\n",
       "</style>\n",
       "<table border=\"1\" class=\"dataframe\">\n",
       "  <thead>\n",
       "    <tr style=\"text-align: right;\">\n",
       "      <th></th>\n",
       "      <th>RETURN_CODE</th>\n",
       "      <th>ORDER_DETAIL_CODE</th>\n",
       "      <th>RETURN_REASON_CODE</th>\n",
       "      <th>PRODUCT_NUMBER</th>\n",
       "      <th>UNIT_SALE_PRICE</th>\n",
       "      <th>PRODUCT_TYPE_CODE</th>\n",
       "      <th>PRODUCT_LINE_CODE</th>\n",
       "    </tr>\n",
       "  </thead>\n",
       "  <tbody>\n",
       "    <tr>\n",
       "      <th>125</th>\n",
       "      <td>1758</td>\n",
       "      <td>54066</td>\n",
       "      <td>1</td>\n",
       "      <td>68</td>\n",
       "      <td>55.2</td>\n",
       "      <td>11</td>\n",
       "      <td>3</td>\n",
       "    </tr>\n",
       "    <tr>\n",
       "      <th>581</th>\n",
       "      <td>2151</td>\n",
       "      <td>74099</td>\n",
       "      <td>1</td>\n",
       "      <td>36</td>\n",
       "      <td>34.9</td>\n",
       "      <td>5</td>\n",
       "      <td>1</td>\n",
       "    </tr>\n",
       "    <tr>\n",
       "      <th>468</th>\n",
       "      <td>2122</td>\n",
       "      <td>73708</td>\n",
       "      <td>4</td>\n",
       "      <td>24</td>\n",
       "      <td>76.86</td>\n",
       "      <td>4</td>\n",
       "      <td>1</td>\n",
       "    </tr>\n",
       "    <tr>\n",
       "      <th>372</th>\n",
       "      <td>2095</td>\n",
       "      <td>73358</td>\n",
       "      <td>3</td>\n",
       "      <td>12</td>\n",
       "      <td>613.34</td>\n",
       "      <td>2</td>\n",
       "      <td>1</td>\n",
       "    </tr>\n",
       "    <tr>\n",
       "      <th>393</th>\n",
       "      <td>2102</td>\n",
       "      <td>75769</td>\n",
       "      <td>5</td>\n",
       "      <td>14</td>\n",
       "      <td>581.19</td>\n",
       "      <td>2</td>\n",
       "      <td>1</td>\n",
       "    </tr>\n",
       "    <tr>\n",
       "      <th>...</th>\n",
       "      <td>...</td>\n",
       "      <td>...</td>\n",
       "      <td>...</td>\n",
       "      <td>...</td>\n",
       "      <td>...</td>\n",
       "      <td>...</td>\n",
       "      <td>...</td>\n",
       "    </tr>\n",
       "    <tr>\n",
       "      <th>121</th>\n",
       "      <td>2234</td>\n",
       "      <td>49039</td>\n",
       "      <td>2</td>\n",
       "      <td>67</td>\n",
       "      <td>221.66</td>\n",
       "      <td>10</td>\n",
       "      <td>3</td>\n",
       "    </tr>\n",
       "    <tr>\n",
       "      <th>80</th>\n",
       "      <td>1516</td>\n",
       "      <td>86090</td>\n",
       "      <td>2</td>\n",
       "      <td>61</td>\n",
       "      <td>35</td>\n",
       "      <td>9</td>\n",
       "      <td>2</td>\n",
       "    </tr>\n",
       "    <tr>\n",
       "      <th>696</th>\n",
       "      <td>2253</td>\n",
       "      <td>107098</td>\n",
       "      <td>5</td>\n",
       "      <td>108</td>\n",
       "      <td>910.82</td>\n",
       "      <td>19</td>\n",
       "      <td>5</td>\n",
       "    </tr>\n",
       "    <tr>\n",
       "      <th>472</th>\n",
       "      <td>1788</td>\n",
       "      <td>52194</td>\n",
       "      <td>2</td>\n",
       "      <td>25</td>\n",
       "      <td>216.66</td>\n",
       "      <td>4</td>\n",
       "      <td>1</td>\n",
       "    </tr>\n",
       "    <tr>\n",
       "      <th>686</th>\n",
       "      <td>2331</td>\n",
       "      <td>78053</td>\n",
       "      <td>2</td>\n",
       "      <td>102</td>\n",
       "      <td>715.72</td>\n",
       "      <td>18</td>\n",
       "      <td>5</td>\n",
       "    </tr>\n",
       "  </tbody>\n",
       "</table>\n",
       "<p>424 rows × 7 columns</p>\n",
       "</div>"
      ],
      "text/plain": [
       "    RETURN_CODE ORDER_DETAIL_CODE RETURN_REASON_CODE PRODUCT_NUMBER  \\\n",
       "125        1758             54066                  1             68   \n",
       "581        2151             74099                  1             36   \n",
       "468        2122             73708                  4             24   \n",
       "372        2095             73358                  3             12   \n",
       "393        2102             75769                  5             14   \n",
       "..          ...               ...                ...            ...   \n",
       "121        2234             49039                  2             67   \n",
       "80         1516             86090                  2             61   \n",
       "696        2253            107098                  5            108   \n",
       "472        1788             52194                  2             25   \n",
       "686        2331             78053                  2            102   \n",
       "\n",
       "    UNIT_SALE_PRICE PRODUCT_TYPE_CODE PRODUCT_LINE_CODE  \n",
       "125            55.2                11                 3  \n",
       "581            34.9                 5                 1  \n",
       "468           76.86                 4                 1  \n",
       "372          613.34                 2                 1  \n",
       "393          581.19                 2                 1  \n",
       "..              ...               ...               ...  \n",
       "121          221.66                10                 3  \n",
       "80               35                 9                 2  \n",
       "696          910.82                19                 5  \n",
       "472          216.66                 4                 1  \n",
       "686          715.72                18                 5  \n",
       "\n",
       "[424 rows x 7 columns]"
      ]
     },
     "execution_count": 6,
     "metadata": {},
     "output_type": "execute_result"
    }
   ],
   "source": [
    "X_test"
   ]
  },
  {
   "cell_type": "code",
   "execution_count": 7,
   "id": "463828dd",
   "metadata": {},
   "outputs": [
    {
     "data": {
      "text/plain": [
       "{'ccp_alpha': 0.0,\n",
       " 'class_weight': None,\n",
       " 'criterion': 'gini',\n",
       " 'max_depth': None,\n",
       " 'max_features': None,\n",
       " 'max_leaf_nodes': None,\n",
       " 'min_impurity_decrease': 0.0,\n",
       " 'min_samples_leaf': 1,\n",
       " 'min_samples_split': 2,\n",
       " 'min_weight_fraction_leaf': 0.0,\n",
       " 'random_state': None,\n",
       " 'splitter': 'best'}"
      ]
     },
     "execution_count": 7,
     "metadata": {},
     "output_type": "execute_result"
    }
   ],
   "source": [
    "tree1.get_params()"
   ]
  },
  {
   "cell_type": "code",
   "execution_count": 8,
   "id": "60a74cfe",
   "metadata": {},
   "outputs": [
    {
     "data": {
      "text/plain": [
       "array(['1', '1', '4', '3', '5', '5', '2', '5', '1', '2', '5', '1', '1',\n",
       "       '2', '1', '5', '5', '3', '2', '2', '1', '2', '3', '1', '1', '3',\n",
       "       '2', '2', '5', '5', '2', '5', '4', '5', '2', '2', '5', '2', '1',\n",
       "       '1', '1', '2', '5', '2', '4', '4', '5', '1', '1', '1', '1', '1',\n",
       "       '5', '5', '2', '2', '1', '3', '5', '1', '2', '1', '2', '5', '2',\n",
       "       '5', '1', '5', '1', '1', '4', '2', '2', '5', '2', '3', '1', '1',\n",
       "       '5', '3', '3', '1', '2', '2', '1', '5', '5', '4', '2', '4', '1',\n",
       "       '3', '1', '3', '1', '5', '2', '5', '2', '2', '4', '2', '2', '1',\n",
       "       '2', '1', '1', '2', '1', '2', '1', '4', '2', '1', '1', '1', '1',\n",
       "       '1', '2', '4', '5', '4', '5', '2', '1', '5', '1', '5', '1', '3',\n",
       "       '3', '1', '5', '1', '2', '4', '1', '3', '5', '2', '1', '4', '2',\n",
       "       '2', '1', '2', '1', '5', '5', '3', '2', '5', '5', '1', '3', '2',\n",
       "       '4', '1', '1', '5', '4', '2', '3', '2', '1', '5', '1', '4', '3',\n",
       "       '2', '1', '2', '1', '1', '3', '1', '5', '4', '4', '5', '1', '1',\n",
       "       '1', '2', '2', '4', '5', '1', '2', '1', '1', '4', '3', '2', '4',\n",
       "       '2', '2', '5', '5', '1', '1', '1', '1', '1', '2', '5', '3', '1',\n",
       "       '5', '1', '4', '2', '1', '1', '1', '2', '3', '4', '4', '1', '3',\n",
       "       '1', '1', '3', '3', '2', '1', '2', '3', '3', '2', '1', '2', '2',\n",
       "       '1', '2', '2', '2', '2', '1', '2', '1', '5', '2', '3', '1', '1',\n",
       "       '2', '1', '2', '2', '5', '2', '1', '4', '5', '5', '3', '2', '2',\n",
       "       '1', '1', '1', '4', '1', '1', '1', '2', '2', '1', '1', '5', '2',\n",
       "       '2', '4', '1', '2', '2', '3', '2', '5', '5', '4', '3', '1', '2',\n",
       "       '5', '4', '1', '1', '1', '1', '5', '5', '4', '1', '2', '3', '1',\n",
       "       '5', '3', '4', '1', '2', '1', '5', '1', '2', '1', '3', '2', '1',\n",
       "       '2', '1', '2', '1', '3', '2', '2', '2', '2', '1', '1', '3', '4',\n",
       "       '5', '2', '5', '2', '1', '1', '5', '1', '1', '4', '2', '2', '3',\n",
       "       '4', '1', '1', '5', '5', '3', '1', '1', '1', '2', '1', '5', '1',\n",
       "       '5', '5', '1', '5', '1', '2', '1', '5', '1', '2', '2', '1', '4',\n",
       "       '1', '2', '1', '1', '5', '1', '1', '1', '1', '1', '2', '5', '1',\n",
       "       '4', '1', '1', '3', '2', '5', '1', '4', '5', '2', '2', '5', '1',\n",
       "       '2', '5', '2', '2', '3', '5', '1', '3', '5', '2', '2', '1', '3',\n",
       "       '1', '4', '2', '1', '2', '2', '2', '1', '1', '3', '2', '2', '2',\n",
       "       '5', '3', '2', '2', '2', '5', '2', '2'], dtype=object)"
      ]
     },
     "execution_count": 8,
     "metadata": {},
     "output_type": "execute_result"
    }
   ],
   "source": [
    "voorspelling = tree1.predict(X_test)\n",
    "voorspelling"
   ]
  },
  {
   "cell_type": "code",
   "execution_count": 9,
   "id": "dd8808b6",
   "metadata": {},
   "outputs": [
    {
     "data": {
      "text/plain": [
       "array([[1., 0., 0., 0., 0.],\n",
       "       [1., 0., 0., 0., 0.],\n",
       "       [0., 0., 0., 1., 0.],\n",
       "       ...,\n",
       "       [0., 0., 0., 0., 1.],\n",
       "       [0., 1., 0., 0., 0.],\n",
       "       [0., 1., 0., 0., 0.]])"
      ]
     },
     "execution_count": 9,
     "metadata": {},
     "output_type": "execute_result"
    }
   ],
   "source": [
    "proba = tree1.predict_proba(X_test)\n",
    "proba"
   ]
  },
  {
   "cell_type": "code",
   "execution_count": 10,
   "id": "534f9de6",
   "metadata": {},
   "outputs": [
    {
     "data": {
      "text/plain": [
       "1.0"
      ]
     },
     "execution_count": 10,
     "metadata": {},
     "output_type": "execute_result"
    }
   ],
   "source": [
    "score = accuracy_score(y_test,voorspelling)\n",
    "score"
   ]
  },
  {
   "cell_type": "code",
   "execution_count": 11,
   "id": "cf65a16f",
   "metadata": {},
   "outputs": [
    {
     "data": {
      "text/plain": [
       "array([[146,   0,   0,   0,   0],\n",
       "       [  0, 121,   0,   0,   0],\n",
       "       [  0,   0,  43,   0,   0],\n",
       "       [  0,   0,   0,  38,   0],\n",
       "       [  0,   0,   0,   0,  76]], dtype=int64)"
      ]
     },
     "execution_count": 11,
     "metadata": {},
     "output_type": "execute_result"
    }
   ],
   "source": [
    "confusion_matrix(y_test, voorspelling)"
   ]
  },
  {
   "cell_type": "code",
   "execution_count": 12,
   "id": "bec4e89f",
   "metadata": {},
   "outputs": [
    {
     "data": {
      "text/plain": [
       "[Text(0.3333333333333333, 0.9, 'x[2] <= 1.5\\ngini = 0.743\\nsamples = 282\\nvalue = [96, 88, 27, 24, 47]'),\n",
       " Text(0.16666666666666666, 0.7, 'gini = 0.0\\nsamples = 96\\nvalue = [96, 0, 0, 0, 0]'),\n",
       " Text(0.5, 0.7, 'x[2] <= 2.5\\ngini = 0.675\\nsamples = 186\\nvalue = [0, 88, 27, 24, 47]'),\n",
       " Text(0.3333333333333333, 0.5, 'gini = 0.0\\nsamples = 88\\nvalue = [0, 88, 0, 0, 0]'),\n",
       " Text(0.6666666666666666, 0.5, 'x[2] <= 4.5\\ngini = 0.634\\nsamples = 98\\nvalue = [0, 0, 27, 24, 47]'),\n",
       " Text(0.5, 0.3, 'x[2] <= 3.5\\ngini = 0.498\\nsamples = 51\\nvalue = [0, 0, 27, 24, 0]'),\n",
       " Text(0.3333333333333333, 0.1, 'gini = 0.0\\nsamples = 27\\nvalue = [0, 0, 27, 0, 0]'),\n",
       " Text(0.6666666666666666, 0.1, 'gini = 0.0\\nsamples = 24\\nvalue = [0, 0, 0, 24, 0]'),\n",
       " Text(0.8333333333333334, 0.3, 'gini = 0.0\\nsamples = 47\\nvalue = [0, 0, 0, 0, 47]')]"
      ]
     },
     "execution_count": 12,
     "metadata": {},
     "output_type": "execute_result"
    },
    {
     "data": {
      "image/png": "[encoded data removed]",
      "text/plain": [
       "<Figure size 640x480 with 1 Axes>"
      ]
     },
     "metadata": {},
     "output_type": "display_data"
    }
   ],
   "source": [
    "tree.plot_tree(tree1)"
   ]
  }
 ],
 "metadata": {
  "kernelspec": {
   "display_name": "Python 3 (ipykernel)",
   "language": "python",
   "name": "python3"
  },
  "language_info": {
   "codemirror_mode": {
    "name": "ipython",
    "version": 3
   },
   "file_extension": ".py",
   "mimetype": "text/x-python",
   "name": "python",
   "nbconvert_exporter": "python",
   "pygments_lexer": "ipython3",
   "version": "3.10.9"
  }
 },
 "nbformat": 4,
 "nbformat_minor": 5
}
